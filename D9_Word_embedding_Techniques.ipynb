{
  "nbformat": 4,
  "nbformat_minor": 0,
  "metadata": {
    "colab": {
      "provenance": [],
      "authorship_tag": "ABX9TyPeWUpXJdwam7mbAbgg/VTM",
      "include_colab_link": true
    },
    "kernelspec": {
      "name": "python3",
      "display_name": "Python 3"
    },
    "language_info": {
      "name": "python"
    }
  },
  "cells": [
    {
      "cell_type": "markdown",
      "metadata": {
        "id": "view-in-github",
        "colab_type": "text"
      },
      "source": [
        "<a href=\"https://colab.research.google.com/github/Madushani-Weerasekara/D9_Word-embedding-Techniques/blob/main/D9_Word_embedding_Techniques.ipynb\" target=\"_parent\"><img src=\"https://colab.research.google.com/assets/colab-badge.svg\" alt=\"Open In Colab\"/></a>"
      ]
    },
    {
      "cell_type": "markdown",
      "source": [
        "#Word Embedding Techniques Using Embedding Layers in Keras"
      ],
      "metadata": {
        "id": "cjRG6oI80v5W"
      }
    },
    {
      "cell_type": "code",
      "source": [
        "# Libraries use tensorflow >2.15.0 and keras"
      ],
      "metadata": {
        "id": "08BcBbOc09fq"
      },
      "execution_count": 2,
      "outputs": []
    },
    {
      "cell_type": "code",
      "source": [
        "!pip install tensorflow-gpu"
      ],
      "metadata": {
        "colab": {
          "base_uri": "https://localhost:8080/"
        },
        "id": "A_6_lOJTFg2Q",
        "outputId": "c59759c2-9567-4667-cde5-926fc99d9bd7"
      },
      "execution_count": 3,
      "outputs": [
        {
          "output_type": "stream",
          "name": "stdout",
          "text": [
            "Collecting tensorflow-gpu\n",
            "  Downloading tensorflow-gpu-2.12.0.tar.gz (2.6 kB)\n",
            "  \u001b[1;31merror\u001b[0m: \u001b[1msubprocess-exited-with-error\u001b[0m\n",
            "  \n",
            "  \u001b[31m×\u001b[0m \u001b[32mpython setup.py egg_info\u001b[0m did not run successfully.\n",
            "  \u001b[31m│\u001b[0m exit code: \u001b[1;36m1\u001b[0m\n",
            "  \u001b[31m╰─>\u001b[0m See above for output.\n",
            "  \n",
            "  \u001b[1;35mnote\u001b[0m: This error originates from a subprocess, and is likely not a problem with pip.\n",
            "  Preparing metadata (setup.py) ... \u001b[?25l\u001b[?25herror\n",
            "\u001b[1;31merror\u001b[0m: \u001b[1mmetadata-generation-failed\u001b[0m\n",
            "\n",
            "\u001b[31m×\u001b[0m Encountered error while generating package metadata.\n",
            "\u001b[31m╰─>\u001b[0m See above for output.\n",
            "\n",
            "\u001b[1;35mnote\u001b[0m: This is an issue with the package mentioned above, not pip.\n",
            "\u001b[1;36mhint\u001b[0m: See above for details.\n"
          ]
        }
      ]
    },
    {
      "cell_type": "code",
      "source": [
        "import tensorflow as tf\n",
        "print(tf.__version__)"
      ],
      "metadata": {
        "colab": {
          "base_uri": "https://localhost:8080/"
        },
        "id": "Pr8bwa33Fo4p",
        "outputId": "be592332-9c4d-4e29-dc98-23387b6cd8fe"
      },
      "execution_count": 1,
      "outputs": [
        {
          "output_type": "stream",
          "name": "stdout",
          "text": [
            "2.15.0\n"
          ]
        }
      ]
    },
    {
      "cell_type": "code",
      "source": [
        "from tensorflow.keras.preprocessing.text import one_hot"
      ],
      "metadata": {
        "id": "fsqfcQ-mFt3p"
      },
      "execution_count": 4,
      "outputs": []
    },
    {
      "cell_type": "code",
      "source": [
        "# Sentences\n",
        "sent = [  'the glass of milk',\n",
        "     'the glass of juice',\n",
        "     'the cup of tea',\n",
        "    'I am a good boy',\n",
        "     'I am a good developer',\n",
        "     'understand the meaning of words',\n",
        "     'your videos are good']"
      ],
      "metadata": {
        "id": "cHjdtSyn5zpo"
      },
      "execution_count": 5,
      "outputs": []
    },
    {
      "cell_type": "code",
      "source": [
        "sent"
      ],
      "metadata": {
        "colab": {
          "base_uri": "https://localhost:8080/"
        },
        "id": "cMq6nXra6GHy",
        "outputId": "d4c14bc2-f74b-421e-8ace-365750c6f083"
      },
      "execution_count": 6,
      "outputs": [
        {
          "output_type": "execute_result",
          "data": {
            "text/plain": [
              "['the glass of milk',\n",
              " 'the glass of juice',\n",
              " 'the cup of tea',\n",
              " 'I am a good boy',\n",
              " 'I am a good developer',\n",
              " 'understand the meaning of words',\n",
              " 'your videos are good']"
            ]
          },
          "metadata": {},
          "execution_count": 6
        }
      ]
    },
    {
      "cell_type": "code",
      "source": [
        "# Vocabulary size\n",
        "voc_size = 500"
      ],
      "metadata": {
        "id": "chzospq86V8W"
      },
      "execution_count": 7,
      "outputs": []
    },
    {
      "cell_type": "markdown",
      "source": [
        "##One Hot Representation"
      ],
      "metadata": {
        "id": "UlAQTNsu6mgu"
      }
    },
    {
      "cell_type": "code",
      "source": [
        "onehot_rep = [one_hot(words,voc_size) for words in sent]\n",
        "print(onehot_rep)"
      ],
      "metadata": {
        "colab": {
          "base_uri": "https://localhost:8080/"
        },
        "id": "iHaLcx506tUS",
        "outputId": "cc43cda0-fbf9-426e-911b-92c15f07b75f"
      },
      "execution_count": 9,
      "outputs": [
        {
          "output_type": "stream",
          "name": "stdout",
          "text": [
            "[[441, 139, 302, 91], [441, 139, 302, 63], [441, 167, 302, 446], [312, 66, 232, 474, 48], [312, 66, 232, 474, 304], [24, 441, 481, 302, 46], [481, 61, 117, 474]]\n"
          ]
        }
      ]
    },
    {
      "cell_type": "markdown",
      "source": [
        "##Word Embedding Representation"
      ],
      "metadata": {
        "id": "x1y0Mheg7q64"
      }
    },
    {
      "cell_type": "code",
      "source": [
        "from tensorflow.keras.layers import Embedding\n",
        "from tensorflow.keras.preprocessing.sequence import pad_sequences\n",
        "from tensorflow.keras.models import Sequential"
      ],
      "metadata": {
        "id": "v6TcWSE27vmP"
      },
      "execution_count": 10,
      "outputs": []
    },
    {
      "cell_type": "code",
      "source": [
        "import numpy as np"
      ],
      "metadata": {
        "id": "hWcRpawR8Q_d"
      },
      "execution_count": 11,
      "outputs": []
    },
    {
      "cell_type": "code",
      "source": [
        "## Prepadding\n",
        "sent_length = 8\n",
        "embedded_docs = pad_sequences(onehot_rep,padding =\"pre\", maxlen=sent_length)\n",
        "print(embedded_docs)\n"
      ],
      "metadata": {
        "colab": {
          "base_uri": "https://localhost:8080/"
        },
        "id": "aCAmc2iN8U-G",
        "outputId": "2b15f418-f39a-46a0-d813-6e0ec1483f7f"
      },
      "execution_count": 12,
      "outputs": [
        {
          "output_type": "stream",
          "name": "stdout",
          "text": [
            "[[  0   0   0   0 441 139 302  91]\n",
            " [  0   0   0   0 441 139 302  63]\n",
            " [  0   0   0   0 441 167 302 446]\n",
            " [  0   0   0 312  66 232 474  48]\n",
            " [  0   0   0 312  66 232 474 304]\n",
            " [  0   0   0  24 441 481 302  46]\n",
            " [  0   0   0   0 481  61 117 474]]\n"
          ]
        }
      ]
    },
    {
      "cell_type": "code",
      "source": [
        "## Postpadding\n",
        "sent_length = 8\n",
        "embedded_docs = pad_sequences(onehot_rep, padding ='post', maxlen=sent_length)\n",
        "print(embedded_docs)"
      ],
      "metadata": {
        "colab": {
          "base_uri": "https://localhost:8080/"
        },
        "id": "FeHUoooX87a1",
        "outputId": "bf325892-8bb8-4a7e-fb02-951c28c452b4"
      },
      "execution_count": 13,
      "outputs": [
        {
          "output_type": "stream",
          "name": "stdout",
          "text": [
            "[[441 139 302  91   0   0   0   0]\n",
            " [441 139 302  63   0   0   0   0]\n",
            " [441 167 302 446   0   0   0   0]\n",
            " [312  66 232 474  48   0   0   0]\n",
            " [312  66 232 474 304   0   0   0]\n",
            " [ 24 441 481 302  46   0   0   0]\n",
            " [481  61 117 474   0   0   0   0]]\n"
          ]
        }
      ]
    },
    {
      "cell_type": "code",
      "source": [
        "# 10 feature dimension\n",
        "dim = 10"
      ],
      "metadata": {
        "id": "SzsOFlzf9Smk"
      },
      "execution_count": 14,
      "outputs": []
    },
    {
      "cell_type": "code",
      "source": [
        "model=Sequential()\n",
        "model.add(Embedding(voc_size, 10, input_length=sent_length))\n",
        "model.compile(\"adam\", 'mse')"
      ],
      "metadata": {
        "id": "qXdhUcgb9du1"
      },
      "execution_count": 17,
      "outputs": []
    },
    {
      "cell_type": "code",
      "source": [
        "model.summary()"
      ],
      "metadata": {
        "colab": {
          "base_uri": "https://localhost:8080/"
        },
        "id": "q-E66iHT-Ad1",
        "outputId": "b52e63c5-3fa8-4a74-ccd8-d0ded85ef54c"
      },
      "execution_count": 18,
      "outputs": [
        {
          "output_type": "stream",
          "name": "stdout",
          "text": [
            "Model: \"sequential\"\n",
            "_________________________________________________________________\n",
            " Layer (type)                Output Shape              Param #   \n",
            "=================================================================\n",
            " embedding (Embedding)       (None, 8, 10)             5000      \n",
            "                                                                 \n",
            "=================================================================\n",
            "Total params: 5000 (19.53 KB)\n",
            "Trainable params: 5000 (19.53 KB)\n",
            "Non-trainable params: 0 (0.00 Byte)\n",
            "_________________________________________________________________\n"
          ]
        }
      ]
    },
    {
      "cell_type": "code",
      "source": [],
      "metadata": {
        "id": "EY_34LBJ-OrU"
      },
      "execution_count": null,
      "outputs": []
    }
  ]
}